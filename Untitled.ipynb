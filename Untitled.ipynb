{
 "cells": [
  {
   "cell_type": "code",
   "execution_count": 5,
   "metadata": {},
   "outputs": [
    {
     "name": "stdout",
     "output_type": "stream",
     "text": [
      "1\n",
      "(1,)\n",
      "(1, 3, 5)\n"
     ]
    }
   ],
   "source": [
    "a = (1,2,3,4,5)\n",
    "print(a[0])\n",
    "print(a[0:1])\n",
    "print(a[0:5:2])"
   ]
  },
  {
   "cell_type": "code",
   "execution_count": null,
   "metadata": {},
   "outputs": [],
   "source": [
    "# in tuple\n",
    "# no create,update,delete"
   ]
  },
  {
   "cell_type": "code",
   "execution_count": 8,
   "metadata": {},
   "outputs": [
    {
     "name": "stdout",
     "output_type": "stream",
     "text": [
      "Enter c = 2\n",
      "enter x = an\n",
      "enter x = ay\n",
      "('an', 'ay')\n"
     ]
    }
   ],
   "source": [
    "t = tuple()\n",
    "c = int(input(\"Enter c = \"))\n",
    "for i in range(c):\n",
    "    x = input(\"enter x = \")\n",
    "    t = t + (x,)\n",
    "print(t)"
   ]
  },
  {
   "cell_type": "code",
   "execution_count": 10,
   "metadata": {},
   "outputs": [
    {
     "name": "stdout",
     "output_type": "stream",
     "text": [
      "[122, 200, 234, 543]\n",
      "(200, 234, 543, 122)\n"
     ]
    }
   ],
   "source": [
    "# sorted\n",
    "a = (200,234,543,122)\n",
    "print(sorted(a))\n",
    "print(a)"
   ]
  },
  {
   "cell_type": "code",
   "execution_count": 11,
   "metadata": {},
   "outputs": [
    {
     "name": "stdout",
     "output_type": "stream",
     "text": [
      "[200, 234, 543, 122]\n"
     ]
    }
   ],
   "source": [
    "# tuple into list\n",
    "a = (200,234,543,122)\n",
    "b = list(a)\n",
    "print(b)"
   ]
  },
  {
   "cell_type": "code",
   "execution_count": 13,
   "metadata": {},
   "outputs": [
    {
     "name": "stdout",
     "output_type": "stream",
     "text": [
      "(234, 543, 122)\n"
     ]
    }
   ],
   "source": [
    "a = (200,234,543,122) # tuple into list into tuple\n",
    "a = list(a)\n",
    "del a[0]\n",
    "a = tuple(a)\n",
    "print(a)"
   ]
  },
  {
   "cell_type": "code",
   "execution_count": 1,
   "metadata": {},
   "outputs": [],
   "source": [
    "# dictionary\n",
    "# here we use curly bracket\n",
    "# ordered\n",
    "# indexed\n",
    "# multiple and duplicate values\n",
    "# mutable"
   ]
  },
  {
   "cell_type": "code",
   "execution_count": null,
   "metadata": {},
   "outputs": [],
   "source": [
    "d = {}\n",
    "# d = dict{}\n",
    "# d = {<key>:<value>,<key>:<value>,..........}"
   ]
  },
  {
   "cell_type": "code",
   "execution_count": 2,
   "metadata": {},
   "outputs": [
    {
     "data": {
      "text/plain": [
       "dict"
      ]
     },
     "execution_count": 2,
     "metadata": {},
     "output_type": "execute_result"
    }
   ],
   "source": [
    "d = {'a':'apple','b':'ball','c':'cat'}\n",
    "type(d)"
   ]
  },
  {
   "cell_type": "code",
   "execution_count": 3,
   "metadata": {},
   "outputs": [
    {
     "name": "stdout",
     "output_type": "stream",
     "text": [
      "apple\n",
      "ball\n",
      "cat\n"
     ]
    }
   ],
   "source": [
    "d = {'a':'apple','b':'ball','c':'cat'}\n",
    "print(d['a'])\n",
    "print(d['b'])\n",
    "print(d['c'])"
   ]
  },
  {
   "cell_type": "code",
   "execution_count": 4,
   "metadata": {},
   "outputs": [
    {
     "name": "stdout",
     "output_type": "stream",
     "text": [
      "{'a': 'apple', 'b': 'ball', 'c': 'cat'}\n",
      "3\n"
     ]
    }
   ],
   "source": [
    "d = {'a':'apple','b':'ball','c':'cat'}\n",
    "print(d)\n",
    "print(len(d))"
   ]
  },
  {
   "cell_type": "code",
   "execution_count": 6,
   "metadata": {},
   "outputs": [
    {
     "name": "stdout",
     "output_type": "stream",
     "text": [
      "{'a': 'ant', 'b': 'ball', 'c': 'cat'}\n"
     ]
    }
   ],
   "source": [
    "d = {'a':'apple','b':'ball','c':'cat','a':'ant'}\n",
    "print(d)"
   ]
  },
  {
   "cell_type": "code",
   "execution_count": 8,
   "metadata": {},
   "outputs": [
    {
     "name": "stdout",
     "output_type": "stream",
     "text": [
      "{'a': 'apple', 'b': 'ball', 'c': 'cat'}\n"
     ]
    }
   ],
   "source": [
    "d={}\n",
    "d['a']='apple'\n",
    "d['b']='ball'\n",
    "d['c']='cat'\n",
    "print(d)"
   ]
  },
  {
   "cell_type": "code",
   "execution_count": 13,
   "metadata": {},
   "outputs": [
    {
     "name": "stdout",
     "output_type": "stream",
     "text": [
      "Enter c = 2\n",
      "Enter name = anzila\n",
      "Enter phone = 9865245957\n",
      "Enter name = ayush\n",
      "Enter phone = 9865000444\n",
      "{'anzila': '9865245957', 'ayush': '9865000444'}\n"
     ]
    }
   ],
   "source": [
    "d={}\n",
    "c = int(input(\"Enter c = \"))\n",
    "for i in range(c):\n",
    "    name =input(\"Enter name = \")\n",
    "    phone=input(\"Enter phone = \")\n",
    "    d[name] = phone\n",
    "print(d)"
   ]
  },
  {
   "cell_type": "code",
   "execution_count": 15,
   "metadata": {},
   "outputs": [
    {
     "name": "stdout",
     "output_type": "stream",
     "text": [
      "anzila\n",
      "ayush\n"
     ]
    }
   ],
   "source": [
    "d = {'anzila': '9865245957', 'ayush': '9865000444'}\n",
    "for i in d:\n",
    "    print(i)"
   ]
  },
  {
   "cell_type": "code",
   "execution_count": 16,
   "metadata": {},
   "outputs": [
    {
     "name": "stdout",
     "output_type": "stream",
     "text": [
      "9865245957\n",
      "9865000444\n"
     ]
    }
   ],
   "source": [
    "d = {'anzila': '9865245957', 'ayush': '9865000444'}\n",
    "for i in d.values():\n",
    "    print(i)"
   ]
  },
  {
   "cell_type": "code",
   "execution_count": 18,
   "metadata": {},
   "outputs": [
    {
     "name": "stdout",
     "output_type": "stream",
     "text": [
      "[('anzila', '9865245957'), ('ayush', '9865000444')]\n"
     ]
    }
   ],
   "source": [
    "l = []\n",
    "d = {'anzila': '9865245957', 'ayush': '9865000444'}\n",
    "for i in d.items():\n",
    "    l.append(i)\n",
    "print(l)"
   ]
  },
  {
   "cell_type": "code",
   "execution_count": 19,
   "metadata": {},
   "outputs": [
    {
     "data": {
      "text/plain": [
       "{'anzila': '9865245957', 'ayush': '9865000444'}"
      ]
     },
     "execution_count": 19,
     "metadata": {},
     "output_type": "execute_result"
    }
   ],
   "source": [
    "dict(l)"
   ]
  },
  {
   "cell_type": "code",
   "execution_count": 20,
   "metadata": {},
   "outputs": [
    {
     "name": "stdout",
     "output_type": "stream",
     "text": [
      "{'anzila': '98765245278', 'ayush': '9865000444'}\n"
     ]
    }
   ],
   "source": [
    "# update\n",
    "d = {'anzila': '9865245957', 'ayush': '9865000444'}\n",
    "d['anzila'] = '98765245278'\n",
    "print(d)"
   ]
  },
  {
   "cell_type": "code",
   "execution_count": 21,
   "metadata": {},
   "outputs": [
    {
     "name": "stdout",
     "output_type": "stream",
     "text": [
      "{'ayush': '9865000444'}\n",
      "9865245957\n"
     ]
    }
   ],
   "source": [
    "# del pop()\n",
    "d = {'anzila': '9865245957', 'ayush': '9865000444'}\n",
    "e = d.pop('anzila')\n",
    "print(d)\n",
    "print(e)"
   ]
  },
  {
   "cell_type": "code",
   "execution_count": 22,
   "metadata": {},
   "outputs": [
    {
     "name": "stdout",
     "output_type": "stream",
     "text": [
      "{'ayush': '9865000444'}\n"
     ]
    }
   ],
   "source": [
    "d = {'anzila': '9865245957', 'ayush': '9865000444'}\n",
    "del d['anzila']\n",
    "print(d)"
   ]
  },
  {
   "cell_type": "markdown",
   "metadata": {},
   "source": [
    "list inside dict"
   ]
  },
  {
   "cell_type": "code",
   "execution_count": 25,
   "metadata": {},
   "outputs": [
    {
     "name": "stdout",
     "output_type": "stream",
     "text": [
      "['9865245957', '9864736424']\n",
      "9865245957\n"
     ]
    }
   ],
   "source": [
    "d = {'anzila': ['9865245957','9864736424'], 'ayush': ['9865000444','67364329847']}\n",
    "print(d['anzila'])\n",
    "print(d['anzila'][0])"
   ]
  },
  {
   "cell_type": "code",
   "execution_count": 1,
   "metadata": {},
   "outputs": [
    {
     "name": "stdout",
     "output_type": "stream",
     "text": [
      "Enter c = 2\n",
      "Enter name = anzila\n",
      "Enter ntc_phone = 9865245957\n",
      "Enter ncell_phone = 785849528395\n",
      "Enter name = ayush gu\n",
      "Enter ntc_phone = 9865000444\n",
      "Enter ncell_phone = 74657458340\n",
      "{'anzila': ['9865245957', '785849528395'], 'ayush gu': ['9865000444', '74657458340']}\n"
     ]
    }
   ],
   "source": [
    "d={}\n",
    "c = int(input(\"Enter c = \"))\n",
    "for i in range(c):\n",
    "    name =input(\"Enter name = \")\n",
    "    ntc_phone =input(\"Enter ntc_phone = \")\n",
    "    ncell_phone =input(\"Enter ncell_phone = \")\n",
    "    d[name] = [ntc_phone,ncell_phone]\n",
    "print(d)"
   ]
  },
  {
   "cell_type": "code",
   "execution_count": 3,
   "metadata": {},
   "outputs": [
    {
     "name": "stdout",
     "output_type": "stream",
     "text": [
      "{'anzila': ['0887765545', '9864736424'], 'ayush': ['9865000444', '67364329847'], 'rozina': ['6547983287', '75674839382']}\n"
     ]
    }
   ],
   "source": [
    "d = {'anzila': ['9865245957','9864736424'], 'ayush': ['9865000444','67364329847']}\n",
    "d['rozina'] = ['6547983287','75674839382']\n",
    "d['anzila'][0] ='0887765545'\n",
    "print(d)"
   ]
  },
  {
   "cell_type": "code",
   "execution_count": 4,
   "metadata": {},
   "outputs": [],
   "source": [
    "# d = {'sn':[1,2],\n",
    "#      'product':['momo','coke'],\n",
    "#      'price':[120,50],\n",
    "#      'quantity':[2,4],\n",
    "#      'total':[240,200]} #wap to create this structure"
   ]
  },
  {
   "cell_type": "code",
   "execution_count": 5,
   "metadata": {},
   "outputs": [
    {
     "name": "stdout",
     "output_type": "stream",
     "text": [
      "{'sn': 1, 'product': 'momo', 'price': 120, 'quantity': 2, 'total': 240}\n",
      "momo\n"
     ]
    }
   ],
   "source": [
    "# dict inside list #wap to create this structure\n",
    "l = [{'sn':1,'product':'momo','price':120,'quantity':2,'total':240},\n",
    "     {'sn':2,'product':'coke','price':50,'quantity':4,'total':200}]\n",
    "print(l[0])\n",
    "print(l[0]['product'])"
   ]
  },
  {
   "cell_type": "code",
   "execution_count": 6,
   "metadata": {},
   "outputs": [
    {
     "name": "stdout",
     "output_type": "stream",
     "text": [
      "{1: {'product': 'momo', 'price': 120, 'quantity': 2, 'total': 240}, 2: {'product': 'coke', 'price': 50, 'quantity': 4, 'total': 200}}\n"
     ]
    }
   ],
   "source": [
    "# dict inside dict\n",
    "d = {1:{'product':'momo','price':120,'quantity':2,'total':240},\n",
    "     2:{'product':'coke','price':50,'quantity':4,'total':200}}\n",
    "print(d)"
   ]
  },
  {
   "cell_type": "code",
   "execution_count": 3,
   "metadata": {},
   "outputs": [
    {
     "name": "stdout",
     "output_type": "stream",
     "text": [
      "Enter c = 2\n",
      "Enter name = momo\n",
      "Enter quantity = 2\n",
      "Enter price = 120\n",
      "Enter name = coke\n",
      "Enter quantity = 50\n",
      "Enter price = 5\n",
      "{1: {'product': 'momo', 'price': 120, 'quantity': 2, 'total': 240}, 2: {'product': 'coke', 'price': 5, 'quantity': 50, 'total': 250}}\n"
     ]
    }
   ],
   "source": [
    "bill={}\n",
    "c = int(input(\"Enter c = \"))\n",
    "for i in range(1,c+1):\n",
    "    name = input(\"Enter name = \")\n",
    "    quantity = int(input(\"Enter quantity = \"))\n",
    "    price = int(input(\"Enter price = \"))\n",
    "    total= price*quantity\n",
    "    bill[i] = {'product':name,'price':price,'quantity':quantity,'total':total}\n",
    "print(bill)\n",
    "    "
   ]
  },
  {
   "cell_type": "code",
   "execution_count": 4,
   "metadata": {},
   "outputs": [
    {
     "data": {
      "text/plain": [
       "{1: {'product': 'buff momo', 'price': 120, 'quantity': 2, 'total': 240},\n",
       " 2: {'product': 'coke', 'price': 5, 'quantity': 50, 'total': 250}}"
      ]
     },
     "execution_count": 4,
     "metadata": {},
     "output_type": "execute_result"
    }
   ],
   "source": [
    "bill[1]['product'] = 'buff momo'\n",
    "bill"
   ]
  },
  {
   "cell_type": "code",
   "execution_count": 6,
   "metadata": {},
   "outputs": [
    {
     "data": {
      "text/plain": [
       "{1: {'product': 'buff momo', 'price': 120, 'quantity': 2, 'total': 240},\n",
       " 2: {'product': 'coke', 'price': 5, 'quantity': 50, 'total': 250},\n",
       " 3: {'product': 'snacks', 'price': 80, 'quantity': 1, 'total': 80}}"
      ]
     },
     "execution_count": 6,
     "metadata": {},
     "output_type": "execute_result"
    }
   ],
   "source": [
    "bill[3]={'product':'snacks','price':80,'quantity':1,'total':80}\n",
    "bill"
   ]
  },
  {
   "cell_type": "code",
   "execution_count": 2,
   "metadata": {},
   "outputs": [
    {
     "name": "stdout",
     "output_type": "stream",
     "text": [
      "Enter c = 2\n",
      "Enter name = momo\n",
      "Enter quantity = 2\n",
      "Enter price = 100\n",
      "Enter name = fanta\n",
      "Enter quantity = 2\n",
      "Enter price = 50\n",
      "{'sn': [1, 2], 'product': ['momo', 'fanta'], 'price': [100, 50], 'quantity': [2, 2], 'total': [200, 100]}\n"
     ]
    }
   ],
   "source": [
    "bill={'sn':[],'product':[],'price':[],'quantity':[],'total':[]}\n",
    "c = int(input(\"Enter c = \"))\n",
    "for i in range(1,c+1):\n",
    "    name = input(\"Enter name = \")\n",
    "    quantity = int(input(\"Enter quantity = \"))\n",
    "    price = int(input(\"Enter price = \"))\n",
    "    total= price*quantity\n",
    "    bill['sn'].append(i)\n",
    "    bill['product'].append(name)\n",
    "    bill['price'].append(price)\n",
    "    bill['quantity'].append(quantity)\n",
    "    bill['total'].append(total)\n",
    "print(bill)\n",
    "    "
   ]
  },
  {
   "cell_type": "code",
   "execution_count": 1,
   "metadata": {},
   "outputs": [
    {
     "name": "stdout",
     "output_type": "stream",
     "text": [
      "Enter c = 1\n",
      "Enter name = momo\n",
      "Enter quantity = 2\n",
      "Enter price = 100\n",
      "[{'sn': 1, 'product': 'momo', 'price': 100, 'quantity': 2, 'total': 200}]\n"
     ]
    }
   ],
   "source": [
    "# dict inside list #wap to create this structure\n",
    "# l = [{'sn':1,'product':'momo','price':120,'quantity':2,'total':240},\n",
    "#      {'sn':2,'product':'coke','price':50,'quantity':4,'total':200}]\n",
    "l = []\n",
    "c = int(input(\"Enter c = \"))\n",
    "for i in range(1,c+1):\n",
    "    name = input(\"Enter name = \")\n",
    "    quantity = int(input(\"Enter quantity = \"))\n",
    "    price = int(input(\"Enter price = \"))\n",
    "    total= price*quantity\n",
    "    d = {'sn':i,'product':name,'price':price,'quantity':quantity,'total':total}\n",
    "    l.append(d)\n",
    "print(l)\n",
    "    "
   ]
  },
  {
   "cell_type": "code",
   "execution_count": 3,
   "metadata": {},
   "outputs": [],
   "source": [
    "d = {1:{'phyics':{'th':50,'pr':25}},\n",
    "    2:{'chemistry':{'th':45,'pr':30}}}"
   ]
  },
  {
   "cell_type": "code",
   "execution_count": 4,
   "metadata": {},
   "outputs": [],
   "source": [
    "# Set\n",
    "# no indexing,duplicate values,unordered,mutable"
   ]
  },
  {
   "cell_type": "code",
   "execution_count": 5,
   "metadata": {},
   "outputs": [
    {
     "name": "stdout",
     "output_type": "stream",
     "text": [
      "{'apple', 'dragonfruit', 'cherry', 'banana'}\n",
      "{1, 2, 3, 4, 5}\n"
     ]
    }
   ],
   "source": [
    "s = {1,2,3,4,5}\n",
    "a = {\"apple\",\"banana\",\"cherry\",\"dragonfruit\"}\n",
    "print(a)\n",
    "print(s)"
   ]
  },
  {
   "cell_type": "code",
   "execution_count": 6,
   "metadata": {},
   "outputs": [
    {
     "name": "stdout",
     "output_type": "stream",
     "text": [
      "4\n"
     ]
    }
   ],
   "source": [
    "a = {\"apple\",\"banana\",\"cherry\",\"dragonfruit\"}\n",
    "print(len(a))"
   ]
  },
  {
   "cell_type": "code",
   "execution_count": 7,
   "metadata": {},
   "outputs": [
    {
     "name": "stdout",
     "output_type": "stream",
     "text": [
      "<class 'set'>\n"
     ]
    }
   ],
   "source": [
    "a = {\"apple\",\"banana\",\"cherry\",\"dragonfruit\"}\n",
    "print(type(a))"
   ]
  },
  {
   "cell_type": "code",
   "execution_count": 9,
   "metadata": {},
   "outputs": [
    {
     "name": "stdout",
     "output_type": "stream",
     "text": [
      "{'apple', 'dragonfruit', 'cherry', 'banana'}\n"
     ]
    }
   ],
   "source": [
    "a = set((\"apple\",\"banana\",\"cherry\",\"dragonfruit\"))\n",
    "print(a)"
   ]
  },
  {
   "cell_type": "code",
   "execution_count": 11,
   "metadata": {},
   "outputs": [
    {
     "name": "stdout",
     "output_type": "stream",
     "text": [
      "{'apple', 'banana', 'Apple', 'dragonfruit', 'cherry'}\n"
     ]
    }
   ],
   "source": [
    "a = {\"apple\",\"banana\",\"cherry\",\"dragonfruit\"}\n",
    "a.add(\"Apple\")\n",
    "print(a)"
   ]
  },
  {
   "cell_type": "code",
   "execution_count": 13,
   "metadata": {},
   "outputs": [
    {
     "name": "stdout",
     "output_type": "stream",
     "text": [
      "{'dragonfruit', 'cherry', 'banana'}\n"
     ]
    }
   ],
   "source": [
    "a = {\"apple\",\"banana\",\"cherry\",\"dragonfruit\"}\n",
    "a.remove(\"apple\")\n",
    "print(a)"
   ]
  },
  {
   "cell_type": "code",
   "execution_count": 19,
   "metadata": {},
   "outputs": [
    {
     "data": {
      "text/plain": [
       "['apple', 'dragonfruit', 'cherry', 'banana']"
      ]
     },
     "execution_count": 19,
     "metadata": {},
     "output_type": "execute_result"
    }
   ],
   "source": [
    "a = {\"apple\",\"banana\",\"cherry\",\"dragonfruit\",\"apple\"}\n",
    "list(set(a))"
   ]
  },
  {
   "cell_type": "code",
   "execution_count": 20,
   "metadata": {},
   "outputs": [
    {
     "ename": "TypeError",
     "evalue": "unhashable type: 'set'",
     "output_type": "error",
     "traceback": [
      "\u001b[1;31m---------------------------------------------------------------------------\u001b[0m",
      "\u001b[1;31mTypeError\u001b[0m                                 Traceback (most recent call last)",
      "\u001b[1;32m<ipython-input-20-feddd99f617a>\u001b[0m in \u001b[0;36m<module>\u001b[1;34m\u001b[0m\n\u001b[0;32m      1\u001b[0m \u001b[1;31m# set inside set isnot possible\u001b[0m\u001b[1;33m\u001b[0m\u001b[1;33m\u001b[0m\u001b[1;33m\u001b[0m\u001b[0m\n\u001b[1;32m----> 2\u001b[1;33m \u001b[0ms\u001b[0m \u001b[1;33m=\u001b[0m \u001b[1;33m{\u001b[0m\u001b[1;34m\"apple\"\u001b[0m\u001b[1;33m,\u001b[0m\u001b[1;34m\"banana\"\u001b[0m\u001b[1;33m,\u001b[0m\u001b[1;34m\"cherry\"\u001b[0m\u001b[1;33m,\u001b[0m\u001b[1;34m\"dragonfruit\"\u001b[0m\u001b[1;33m,\u001b[0m\u001b[1;33m{\u001b[0m\u001b[1;36m1\u001b[0m\u001b[1;33m,\u001b[0m\u001b[1;36m2\u001b[0m\u001b[1;33m,\u001b[0m\u001b[1;36m3\u001b[0m\u001b[1;33m,\u001b[0m\u001b[1;36m4\u001b[0m\u001b[1;33m,\u001b[0m\u001b[1;36m5\u001b[0m\u001b[1;33m}\u001b[0m\u001b[1;33m}\u001b[0m\u001b[1;33m\u001b[0m\u001b[1;33m\u001b[0m\u001b[0m\n\u001b[0m\u001b[0;32m      3\u001b[0m \u001b[0mprint\u001b[0m\u001b[1;33m(\u001b[0m\u001b[0ms\u001b[0m\u001b[1;33m)\u001b[0m\u001b[1;33m\u001b[0m\u001b[1;33m\u001b[0m\u001b[0m\n",
      "\u001b[1;31mTypeError\u001b[0m: unhashable type: 'set'"
     ]
    }
   ],
   "source": [
    "# set inside set isnot possible\n",
    "s = {\"apple\",\"banana\",\"cherry\",\"dragonfruit\",{1,2,3,4,5}}\n",
    "print(s)"
   ]
  },
  {
   "cell_type": "code",
   "execution_count": 30,
   "metadata": {},
   "outputs": [
    {
     "name": "stdout",
     "output_type": "stream",
     "text": [
      "<class 'dict'>\n",
      "<class 'list'>\n",
      "<class 'tuple'>\n",
      "<class 'set'>\n",
      "<class 'dict'>\n"
     ]
    }
   ],
   "source": [
    "s= {}\n",
    "a = []\n",
    "b = ('1',)\n",
    "c={'2',}\n",
    "d={1:1}\n",
    "print(type(s))\n",
    "print(type(a))\n",
    "print(type(b))\n",
    "print(type(c))\n",
    "print(type(d))"
   ]
  },
  {
   "cell_type": "code",
   "execution_count": 32,
   "metadata": {},
   "outputs": [
    {
     "name": "stdout",
     "output_type": "stream",
     "text": [
      "{'anzila'}\n",
      "{'monica', 'gita', 'phoebe', 'hari', 'sita', 'ram', 'chandler', 'shyam', 'rachel', 'ross', 'radhika', 'anzila', 'joey'}\n"
     ]
    }
   ],
   "source": [
    "ms = {'ram','shyam','hari','radhika','sita','gita','anzila'}\n",
    "an = {'ross','joey','chandler','monica','rachel','phoebe','anzila'}\n",
    "print(ms.intersection(an))\n",
    "print(an.union(ms))"
   ]
  },
  {
   "cell_type": "code",
   "execution_count": 34,
   "metadata": {},
   "outputs": [
    {
     "name": "stdout",
     "output_type": "stream",
     "text": [
      "{'gita', 'hari', 'sita', 'ram', 'radhika', 'shyam'}\n",
      "{'monica', 'phoebe', 'chandler', 'ross', 'rachel', 'joey'}\n"
     ]
    }
   ],
   "source": [
    "ms = {'ram','shyam','hari','radhika','sita','gita','anzila'}\n",
    "an = {'ross','joey','chandler','monica','rachel','phoebe','anzila'}\n",
    "print(ms-an) #common bahek sabai hataidincha\n",
    "print(an-ms)"
   ]
  },
  {
   "cell_type": "code",
   "execution_count": 37,
   "metadata": {},
   "outputs": [
    {
     "name": "stdout",
     "output_type": "stream",
     "text": [
      "{'abc', 'xyz'}\n"
     ]
    }
   ],
   "source": [
    "U = {'abc','xyz','shyam','hari','chandler'}\n",
    "ms = {'ram','shyam','hari','radhika','sita','gita','anzila'}\n",
    "an = {'ross','joey','chandler','monica','rachel','phoebe','anzila'}\n",
    "print(U-(an.union(ms)))"
   ]
  },
  {
   "cell_type": "code",
   "execution_count": 43,
   "metadata": {},
   "outputs": [],
   "source": [
    "# tuple inside dict or vice versa\n",
    "d = {'anzila': ('9865245957','9864736424'),\n",
    "     'ayush': ('9865000444','67364329847'),\n",
    "     'apana':('978765654','9863000172')}"
   ]
  },
  {
   "cell_type": "code",
   "execution_count": 42,
   "metadata": {},
   "outputs": [
    {
     "name": "stdout",
     "output_type": "stream",
     "text": [
      "9865245957\n"
     ]
    }
   ],
   "source": [
    "d = {('anzila,anzala'):'9865245957',\n",
    "     'apana':('9863000172')}\n",
    "print(d[('anzila,anzala')])"
   ]
  },
  {
   "cell_type": "code",
   "execution_count": 1,
   "metadata": {},
   "outputs": [],
   "source": [
    "# def <function_name>\n",
    "#     <operations>\n",
    "    \n",
    "# <function_name>()"
   ]
  },
  {
   "cell_type": "code",
   "execution_count": 3,
   "metadata": {},
   "outputs": [
    {
     "name": "stdout",
     "output_type": "stream",
     "text": [
      "Hello World\n",
      "Hello World\n"
     ]
    }
   ],
   "source": [
    "def hello(): #defined function\n",
    "    print(\"Hello World\")\n",
    "    \n",
    "hello() #call function \n",
    "hello() #dui choti call garna parda"
   ]
  },
  {
   "cell_type": "code",
   "execution_count": 1,
   "metadata": {},
   "outputs": [
    {
     "name": "stdout",
     "output_type": "stream",
     "text": [
      "Enter l = 2\n",
      "Enter b = 3\n",
      "Enter h = 4\n",
      "24\n"
     ]
    }
   ],
   "source": [
    "def cal():\n",
    "    l = int(input(\"Enter l = \")) #local variable\n",
    "    b = int(input(\"Enter b = \")) #local variable\n",
    "    h = int(input(\"Enter h = \")) #local variable\n",
    "    v = l*b*h\n",
    "    print(v)\n",
    "cal()"
   ]
  },
  {
   "cell_type": "code",
   "execution_count": 5,
   "metadata": {},
   "outputs": [
    {
     "name": "stdout",
     "output_type": "stream",
     "text": [
      "Enter l = 2\n",
      "Enter b = 3\n",
      "Enter h = 4\n",
      "24\n"
     ]
    }
   ],
   "source": [
    "l = int(input(\"Enter l = \")) #global variable\n",
    "b = int(input(\"Enter b = \")) #global variable\n",
    "h = int(input(\"Enter h = \")) #global variable\n",
    "def cal():\n",
    "    v = l*b*h\n",
    "    print(v)\n",
    "cal()"
   ]
  },
  {
   "cell_type": "code",
   "execution_count": 6,
   "metadata": {},
   "outputs": [],
   "source": [
    "# function with no arguments and no return type\n",
    "# function with arguments and no return type\n",
    "# function with no arguments and return type\n",
    "# function with arguments and return type"
   ]
  },
  {
   "cell_type": "code",
   "execution_count": 9,
   "metadata": {},
   "outputs": [
    {
     "name": "stdout",
     "output_type": "stream",
     "text": [
      "Hello World\n"
     ]
    }
   ],
   "source": [
    "# function with arguments and no return type \n",
    "# argument\n",
    "def hello(x):       #parameter -x\n",
    "    print(x)\n",
    "hello(\"Hello World\")    #argument"
   ]
  },
  {
   "cell_type": "code",
   "execution_count": 12,
   "metadata": {},
   "outputs": [
    {
     "name": "stdout",
     "output_type": "stream",
     "text": [
      "Hello World\n"
     ]
    }
   ],
   "source": [
    "# function with arguments and no return type \n",
    "# argument\n",
    "def hello(x,y):       #parameter -x,y\n",
    "    print(x,y)\n",
    "hello(\"Hello\",\"World\")    #argument"
   ]
  },
  {
   "cell_type": "code",
   "execution_count": 13,
   "metadata": {},
   "outputs": [
    {
     "name": "stdout",
     "output_type": "stream",
     "text": [
      "Enter l = 2\n",
      "Enter b = 3\n",
      "Enter h = 4\n",
      "24\n"
     ]
    }
   ],
   "source": [
    "def cal(x,y,z):\n",
    "    v = x*y*z    #l,b,h nai lekhna parcha vanne chhaina diff lekhehuncha tara 2 ota variable cha vane duita rakhne\n",
    "    print(v)     #ani j rakhecha tyo chai v ma same variable rakhna parcha \n",
    "\n",
    "l = int(input(\"Enter l = \")) \n",
    "b = int(input(\"Enter b = \")) \n",
    "h = int(input(\"Enter h = \")) \n",
    "cal(l,b,h)"
   ]
  },
  {
   "cell_type": "code",
   "execution_count": 17,
   "metadata": {},
   "outputs": [
    {
     "name": "stdout",
     "output_type": "stream",
     "text": [
      "php\n",
      "python\n"
     ]
    }
   ],
   "source": [
    "def language (lan = \"python\"):\n",
    "    print(lan)\n",
    "language(\"php\")  #python value vayeni pachi update gareko value suru ma dekhaucha rw python last ma print if empty bracket \n",
    "language()        #rakhyo vane rw as a default value display huncha "
   ]
  },
  {
   "cell_type": "code",
   "execution_count": 18,
   "metadata": {},
   "outputs": [
    {
     "name": "stdout",
     "output_type": "stream",
     "text": [
      "Enter l = 2\n",
      "Enter b = 3\n",
      "Enter h = 4\n",
      "24\n",
      "6\n"
     ]
    }
   ],
   "source": [
    "def area(l,b):\n",
    "    a = l*b\n",
    "    print(a)\n",
    "def volume(l,b,h):\n",
    "    v = l*b*h\n",
    "    print(v)\n",
    "\n",
    "l = int(input(\"Enter l = \")) \n",
    "b = int(input(\"Enter b = \")) \n",
    "h = int(input(\"Enter h = \"))    \n",
    "\n",
    "volume(l,b,h)\n",
    "area(l,b)"
   ]
  },
  {
   "cell_type": "code",
   "execution_count": 20,
   "metadata": {},
   "outputs": [
    {
     "name": "stdout",
     "output_type": "stream",
     "text": [
      "Hello World\n"
     ]
    }
   ],
   "source": [
    "# return type function but no arguments\n",
    "def hello():           #hello() le def lai gayera call garcha rw tesle hello world return garcha tara \n",
    "    return \"Hello World\"    #if we use print(hello()) yesle chai return ma vayeko kura print gar vancha\n",
    "print(hello())"
   ]
  },
  {
   "cell_type": "code",
   "execution_count": 21,
   "metadata": {},
   "outputs": [
    {
     "name": "stdout",
     "output_type": "stream",
     "text": [
      "Hello World i love python\n"
     ]
    }
   ],
   "source": [
    "def hello():\n",
    "    return \"python\"\n",
    "print(\"Hello World i love\",hello())"
   ]
  },
  {
   "cell_type": "code",
   "execution_count": 25,
   "metadata": {},
   "outputs": [
    {
     "name": "stdout",
     "output_type": "stream",
     "text": [
      "Enter l = 2\n",
      "Enter b = 3\n",
      "Enter h = 4\n",
      "6\n",
      "volume =  24\n"
     ]
    }
   ],
   "source": [
    "#return type also argument\n",
    "def area(l,b):\n",
    "    a = l*b\n",
    "    return a\n",
    "\n",
    "l = int(input(\"Enter l = \")) \n",
    "b = int(input(\"Enter b = \")) \n",
    "h = int(input(\"Enter h = \"))    \n",
    "\n",
    "ar = area(l,b)        #area le call garcha ani calulate gare j nih value aaucha a chai return gara ar ma vaneko \n",
    "print(ar)\n",
    "\n",
    "volume = ar*h        #rw here tei value use garera hami le volume pani nikalchau\n",
    "print(\"volume = \",volume)"
   ]
  },
  {
   "cell_type": "code",
   "execution_count": 4,
   "metadata": {},
   "outputs": [
    {
     "name": "stdout",
     "output_type": "stream",
     "text": [
      "Enter l = 2\n",
      "Enter b = 3\n",
      "Enter h = 4\n",
      "volume =  24\n"
     ]
    }
   ],
   "source": [
    "#function inside function\n",
    "def area(l,b):\n",
    "    a = l*b\n",
    "    return a\n",
    "def volume(l,b,h):\n",
    "    v = area(l,b)*h\n",
    "    return v\n",
    "\n",
    "l = int(input(\"Enter l = \")) \n",
    "b = int(input(\"Enter b = \")) \n",
    "h = int(input(\"Enter h = \"))    \n",
    "           \n",
    "print(\"volume = \",volume(l,b,h))"
   ]
  },
  {
   "cell_type": "code",
   "execution_count": 28,
   "metadata": {},
   "outputs": [
    {
     "name": "stdout",
     "output_type": "stream",
     "text": [
      "Enter l = 2\n",
      "Enter b = 3\n",
      "Enter h = 4\n",
      "area =  6\n",
      "volume =  24\n"
     ]
    }
   ],
   "source": [
    "#function with multiple arguments\n",
    "def area(l,b):\n",
    "    a = l*b\n",
    "    return a\n",
    "def volume(l,b,h):\n",
    "    a = area(l,b)\n",
    "    v = a*h\n",
    "    return a,v\n",
    "\n",
    "l = int(input(\"Enter l = \")) \n",
    "b = int(input(\"Enter b = \")) \n",
    "h = int(input(\"Enter h = \"))    \n",
    "           \n",
    "x,y = volume(l,b,h)\n",
    "print(\"area = \",x)\n",
    "print(\"volume = \",y)"
   ]
  },
  {
   "cell_type": "code",
   "execution_count": null,
   "metadata": {},
   "outputs": [],
   "source": []
  }
 ],
 "metadata": {
  "kernelspec": {
   "display_name": "Python 3",
   "language": "python",
   "name": "python3"
  },
  "language_info": {
   "codemirror_mode": {
    "name": "ipython",
    "version": 3
   },
   "file_extension": ".py",
   "mimetype": "text/x-python",
   "name": "python",
   "nbconvert_exporter": "python",
   "pygments_lexer": "ipython3",
   "version": "3.8.5"
  }
 },
 "nbformat": 4,
 "nbformat_minor": 4
}
