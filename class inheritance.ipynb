{
 "cells": [
  {
   "cell_type": "code",
   "execution_count": 1,
   "metadata": {},
   "outputs": [],
   "source": [
    "# class A:\n",
    "#     pass\n",
    "# class B:\n",
    "#     pass\n",
    "\n",
    "# obj = b()"
   ]
  },
  {
   "cell_type": "code",
   "execution_count": 3,
   "metadata": {},
   "outputs": [
    {
     "name": "stdout",
     "output_type": "stream",
     "text": [
      "Enter name = Ayush\n",
      "Enter age = 22 \n",
      "Hello world I am Ayush and I am 22 years old.\n",
      "Ayush 22\n"
     ]
    }
   ],
   "source": [
    "class Data: #parent\n",
    "    def __init__(self):\n",
    "        self.name = input(\"Enter name = \")\n",
    "        self.age = int(input(\"Enter age = \"))\n",
    "        \n",
    "class Info(Data): #child\n",
    "    def info(self):\n",
    "        print(f\"Hello world I am {self.name} and I am {self.age} years old.\")\n",
    "        \n",
    "obj = Info()\n",
    "obj.info()\n",
    "print(obj.name,obj.age)"
   ]
  },
  {
   "cell_type": "code",
   "execution_count": 6,
   "metadata": {},
   "outputs": [
    {
     "name": "stdout",
     "output_type": "stream",
     "text": [
      "Enter name = Anzila\n",
      "Enter age = 23\n",
      "Hello world I am Anzila and I am 23 years old.\n",
      "Anzila 23\n"
     ]
    }
   ],
   "source": [
    "class Data: #parent\n",
    "    def __init__(self,name,age):\n",
    "        self.name = name\n",
    "        self.age = age\n",
    "        \n",
    "class Info(Data): #child\n",
    "    def info(self):\n",
    "        print(f\"Hello world I am {self.name} and I am {self.age} years old.\")\n",
    "\n",
    "name = input(\"Enter name = \")\n",
    "age = int(input(\"Enter age = \"))\n",
    "            \n",
    "obj = Info(name,age)\n",
    "obj.info()\n",
    "print(obj.name,obj.age)"
   ]
  },
  {
   "cell_type": "code",
   "execution_count": 26,
   "metadata": {},
   "outputs": [
    {
     "name": "stdout",
     "output_type": "stream",
     "text": [
      "Enter name = An\n",
      "Enter age = 23\n",
      "Enter phone = 324543656\n",
      "Hello world I am An and I am 23 years old.\n",
      "An 23\n"
     ]
    }
   ],
   "source": [
    "class Data: #parent\n",
    "    def __init__(self,name,age):\n",
    "        self.name = name\n",
    "        self.age = age\n",
    "   \n",
    "    def data(self):\n",
    "        print(f\"{self.name},{self.age}\")\n",
    "        \n",
    "        \n",
    "class Info(Data): #child\n",
    "    def __init__(self,name,age,add):\n",
    "        self.add = add\n",
    "        Data.__init__(self,name,age)\n",
    "        \n",
    "    def info(self):\n",
    "        print(f\"Hello world I am {self.name} and I am {self.age} years old.\")\n",
    "\n",
    "name = input(\"Enter name = \")\n",
    "age = int(input(\"Enter age = \"))\n",
    "phone = int(input(\"Enter phone = \"))\n",
    "            \n",
    "obj = Info(name,age,phone)\n",
    "obj.info()\n",
    "print(obj.name,obj.age)"
   ]
  },
  {
   "cell_type": "code",
   "execution_count": 22,
   "metadata": {},
   "outputs": [
    {
     "name": "stdout",
     "output_type": "stream",
     "text": [
      "Enter name = An\n",
      "Enter age = 23\n",
      "Enter phone = 4456437\n",
      "Hello world I am An and I am 23 years old.\n",
      "An 23\n"
     ]
    }
   ],
   "source": [
    "# multiple\n",
    "# class A:\n",
    "#     pass\n",
    "# class B(A):\n",
    "#     pass\n",
    "# class C(B)\n",
    "#     pass\n",
    "# obj C()"
   ]
  },
  {
   "cell_type": "code",
   "execution_count": 23,
   "metadata": {},
   "outputs": [],
   "source": [
    "# multilevel\n",
    "# class A:\n",
    "#     pass\n",
    "# class B(A):\n",
    "#     pass\n",
    "# class C(B)\n",
    "#     pass\n",
    "# obj C()"
   ]
  },
  {
   "cell_type": "code",
   "execution_count": 24,
   "metadata": {},
   "outputs": [],
   "source": [
    "# multiple\n",
    "# class A:\n",
    "#     pass\n",
    "# class B:\n",
    "#     pass\n",
    "# class C(A,B)\n",
    "#     pass\n",
    "# obj C()"
   ]
  },
  {
   "cell_type": "code",
   "execution_count": 1,
   "metadata": {},
   "outputs": [
    {
     "name": "stdout",
     "output_type": "stream",
     "text": [
      "Enter name = An\n",
      "Enter age = 23\n",
      "Enter phone = 878090\n",
      "Hello world I am An and I am 23 years old.\n",
      "An 23\n"
     ]
    }
   ],
   "source": [
    "#multiple\n",
    "class Age:\n",
    "    def __init__(self,age):\n",
    "        self.age = age\n",
    "        \n",
    "    def age(self):\n",
    "         print(f\"Hello world I am {self.age}\")\n",
    "\n",
    "class Data: #parent\n",
    "    def __init__(self,name):\n",
    "        self.name = name\n",
    "    def data(self):\n",
    "         print(f\"{self.name}\")\n",
    "        \n",
    "class Info(Data): #child\n",
    "    def __init__(self,name,age,add):\n",
    "        self.add = add\n",
    "        Data.__init__(self,name)\n",
    "        Age.__init__(self,age)\n",
    "    \n",
    "    def info(self):\n",
    "        print(f\"Hello world I am {self.name} and I am {self.age} years old.\")\n",
    "\n",
    "name = input(\"Enter name = \")\n",
    "age = int(input(\"Enter age = \"))\n",
    "phone = int(input(\"Enter phone = \"))             \n",
    "\n",
    "obj = Info(name,age,phone)\n",
    "obj.info()\n",
    "print(obj.name,obj.age)"
   ]
  },
  {
   "cell_type": "code",
   "execution_count": 2,
   "metadata": {},
   "outputs": [
    {
     "name": "stdout",
     "output_type": "stream",
     "text": [
      "Enter name = an\n",
      "Enter age = 23\n",
      "Enter phone = 4365747\n"
     ]
    },
    {
     "ename": "TypeError",
     "evalue": "__init__() takes 2 positional arguments but 3 were given",
     "output_type": "error",
     "traceback": [
      "\u001b[1;31m---------------------------------------------------------------------------\u001b[0m",
      "\u001b[1;31mTypeError\u001b[0m                                 Traceback (most recent call last)",
      "\u001b[1;32m<ipython-input-2-a4b7e46e681f>\u001b[0m in \u001b[0;36m<module>\u001b[1;34m\u001b[0m\n\u001b[0;32m     27\u001b[0m \u001b[0mphone\u001b[0m \u001b[1;33m=\u001b[0m \u001b[0mint\u001b[0m\u001b[1;33m(\u001b[0m\u001b[0minput\u001b[0m\u001b[1;33m(\u001b[0m\u001b[1;34m\"Enter phone = \"\u001b[0m\u001b[1;33m)\u001b[0m\u001b[1;33m)\u001b[0m\u001b[1;33m\u001b[0m\u001b[1;33m\u001b[0m\u001b[0m\n\u001b[0;32m     28\u001b[0m \u001b[1;33m\u001b[0m\u001b[0m\n\u001b[1;32m---> 29\u001b[1;33m \u001b[0mobj\u001b[0m \u001b[1;33m=\u001b[0m \u001b[0mInfo\u001b[0m\u001b[1;33m(\u001b[0m\u001b[0mname\u001b[0m\u001b[1;33m,\u001b[0m\u001b[0mage\u001b[0m\u001b[1;33m,\u001b[0m\u001b[0mphone\u001b[0m\u001b[1;33m)\u001b[0m\u001b[1;33m\u001b[0m\u001b[1;33m\u001b[0m\u001b[0m\n\u001b[0m\u001b[0;32m     30\u001b[0m \u001b[0mobj\u001b[0m\u001b[1;33m.\u001b[0m\u001b[0minfo\u001b[0m\u001b[1;33m(\u001b[0m\u001b[1;33m)\u001b[0m\u001b[1;33m\u001b[0m\u001b[1;33m\u001b[0m\u001b[0m\n\u001b[0;32m     31\u001b[0m \u001b[0mprint\u001b[0m\u001b[1;33m(\u001b[0m\u001b[0mobj\u001b[0m\u001b[1;33m.\u001b[0m\u001b[0mname\u001b[0m\u001b[1;33m,\u001b[0m\u001b[0mobj\u001b[0m\u001b[1;33m.\u001b[0m\u001b[0mage\u001b[0m\u001b[1;33m)\u001b[0m\u001b[1;33m\u001b[0m\u001b[1;33m\u001b[0m\u001b[0m\n",
      "\u001b[1;32m<ipython-input-2-a4b7e46e681f>\u001b[0m in \u001b[0;36m__init__\u001b[1;34m(self, name, age, add)\u001b[0m\n\u001b[0;32m     17\u001b[0m     \u001b[1;32mdef\u001b[0m \u001b[0m__init__\u001b[0m\u001b[1;33m(\u001b[0m\u001b[0mself\u001b[0m\u001b[1;33m,\u001b[0m\u001b[0mname\u001b[0m\u001b[1;33m,\u001b[0m\u001b[0mage\u001b[0m\u001b[1;33m,\u001b[0m\u001b[0madd\u001b[0m\u001b[1;33m)\u001b[0m\u001b[1;33m:\u001b[0m\u001b[1;33m\u001b[0m\u001b[1;33m\u001b[0m\u001b[0m\n\u001b[0;32m     18\u001b[0m         \u001b[0mself\u001b[0m\u001b[1;33m.\u001b[0m\u001b[0madd\u001b[0m \u001b[1;33m=\u001b[0m \u001b[0madd\u001b[0m\u001b[1;33m\u001b[0m\u001b[1;33m\u001b[0m\u001b[0m\n\u001b[1;32m---> 19\u001b[1;33m         \u001b[0mData\u001b[0m\u001b[1;33m.\u001b[0m\u001b[0m__init__\u001b[0m\u001b[1;33m(\u001b[0m\u001b[0mself\u001b[0m\u001b[1;33m,\u001b[0m\u001b[0mname\u001b[0m\u001b[1;33m,\u001b[0m\u001b[0mage\u001b[0m\u001b[1;33m)\u001b[0m\u001b[1;33m\u001b[0m\u001b[1;33m\u001b[0m\u001b[0m\n\u001b[0m\u001b[0;32m     20\u001b[0m \u001b[1;33m\u001b[0m\u001b[0m\n\u001b[0;32m     21\u001b[0m \u001b[1;33m\u001b[0m\u001b[0m\n",
      "\u001b[1;31mTypeError\u001b[0m: __init__() takes 2 positional arguments but 3 were given"
     ]
    }
   ],
   "source": [
    "#multilevel\n",
    "class Age:\n",
    "    def __init__(self,age):\n",
    "        self.age = age\n",
    "        \n",
    "    def age(self):\n",
    "         print(f\"Hello world I am {self.age}\")\n",
    "\n",
    "class Data(Age): #parent\n",
    "    def __init__(self,name):\n",
    "        self.name = name\n",
    "        Age.__init__(self,age)\n",
    "    def data(self):\n",
    "             print(f\"{self.name} {self.age}\")\n",
    "        \n",
    "class Info(Data): #child\n",
    "    def __init__(self,name,age,add):\n",
    "        self.add = add\n",
    "        Data.__init__(self,name,age)\n",
    "        \n",
    "    \n",
    "    def info(self):\n",
    "        print(f\"Hello world I am {self.name} and I am {self.age} years old.\")\n",
    "\n",
    "name = input(\"Enter name = \")\n",
    "age = int(input(\"Enter age = \"))\n",
    "phone = int(input(\"Enter phone = \"))             \n",
    "\n",
    "obj = Info(name,age,phone)\n",
    "obj.info()\n",
    "print(obj.name,obj.age)"
   ]
  },
  {
   "cell_type": "code",
   "execution_count": null,
   "metadata": {},
   "outputs": [],
   "source": []
  }
 ],
 "metadata": {
  "kernelspec": {
   "display_name": "Python 3",
   "language": "python",
   "name": "python3"
  },
  "language_info": {
   "codemirror_mode": {
    "name": "ipython",
    "version": 3
   },
   "file_extension": ".py",
   "mimetype": "text/x-python",
   "name": "python",
   "nbconvert_exporter": "python",
   "pygments_lexer": "ipython3",
   "version": "3.8.5"
  }
 },
 "nbformat": 4,
 "nbformat_minor": 4
}
