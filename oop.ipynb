{
 "cells": [
  {
   "cell_type": "code",
   "execution_count": 5,
   "metadata": {},
   "outputs": [
    {
     "name": "stdout",
     "output_type": "stream",
     "text": [
      "hello world i am Ram.I am from kathmandu.I am 23 years old.\n"
     ]
    }
   ],
   "source": [
    "class information:\n",
    "    def __init__(self,name,age,add):\n",
    "        self.name = name\n",
    "        self.age = age\n",
    "        self.add = add\n",
    "        \n",
    "    def info(self):\n",
    "        print(f\"hello world i am {self.name}.I am from {self.add}.I am {self.age} years old.\")\n",
    "        \n",
    "obj = information(\"Ram\",\"23\",\"kathmandu\")\n",
    "obj.info()"
   ]
  },
  {
   "cell_type": "code",
   "execution_count": 9,
   "metadata": {},
   "outputs": [
    {
     "name": "stdout",
     "output_type": "stream",
     "text": [
      "hello world i am Ram.I am from kathmandu.I am 23 years old.9865245957\n"
     ]
    }
   ],
   "source": [
    "class information:\n",
    "    def __init__(self,name,age,add):\n",
    "        self.name = name\n",
    "        self.age = age\n",
    "        self.add = add\n",
    "        \n",
    "    def info(this,phone):\n",
    "        print(f\"hello world i am {this.name}.I am from {this.add}.I am {this.age} years old.{phone}\")\n",
    "        \n",
    "obj = information(\"Ram\",\"23\",\"kathmandu\")\n",
    "obj.info(9865245957)"
   ]
  },
  {
   "cell_type": "code",
   "execution_count": 21,
   "metadata": {},
   "outputs": [
    {
     "name": "stdout",
     "output_type": "stream",
     "text": [
      "<class 'str'>\n",
      "<class '__main__.information'>\n",
      "Ram\n",
      "Ram\n"
     ]
    }
   ],
   "source": [
    "class information:\n",
    "    def __init__(self,name,age,add):\n",
    "        self.name = name\n",
    "        self.age = age\n",
    "        self.add = add\n",
    "        \n",
    "    def __str__(self):\n",
    "        return self.name\n",
    "    \n",
    "    def info(self):\n",
    "        return(f\"hello world i am {self.name}.I am from {self.add}.I am {self.age} years old.\")\n",
    "        \n",
    "obj = information(\"Ram\",\"23\",\"kathmandu\")\n",
    "print(type(obj.info()))\n",
    "print(type(obj))\n",
    "print(str(obj))\n",
    "print(obj.__str__())"
   ]
  },
  {
   "cell_type": "code",
   "execution_count": null,
   "metadata": {},
   "outputs": [],
   "source": []
  }
 ],
 "metadata": {
  "kernelspec": {
   "display_name": "Python 3",
   "language": "python",
   "name": "python3"
  },
  "language_info": {
   "codemirror_mode": {
    "name": "ipython",
    "version": 3
   },
   "file_extension": ".py",
   "mimetype": "text/x-python",
   "name": "python",
   "nbconvert_exporter": "python",
   "pygments_lexer": "ipython3",
   "version": "3.8.5"
  }
 },
 "nbformat": 4,
 "nbformat_minor": 4
}
